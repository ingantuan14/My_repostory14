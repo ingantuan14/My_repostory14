{
 "cells": [
  {
   "cell_type": "markdown",
   "id": "d7367dd7",
   "metadata": {},
   "source": [
    "# Data Analysis with Pandas and Python "
   ]
  },
  {
   "cell_type": "code",
   "execution_count": 16,
   "id": "89bd8ccc",
   "metadata": {},
   "outputs": [],
   "source": [
    "# Importing Pandas for Data Analysis\n",
    "import pandas as pd\n",
    "from datetime import datetime\n",
    "from pytz import utc\n",
    "\n",
    "\n",
    "# Creating a DataFrame with Pandas\n",
    "reviews = pd.read_csv(r\"udemy_reviews.csv\", parse_dates=['Timestamp'])\n"
   ]
  },
  {
   "cell_type": "markdown",
   "id": "cd555a3d",
   "metadata": {},
   "source": [
    "# Turning Data into information"
   ]
  },
  {
   "cell_type": "markdown",
   "id": "af85ec7e",
   "metadata": {},
   "source": [
    "### The goal of Data Analysis is turning data into valuable insight to drive informed and clever decitions\n",
    "### For this porpose let's set a list of relevant questions, that drives conclusions based on our present data\n"
   ]
  },
  {
   "cell_type": "markdown",
   "id": "5c64e63f",
   "metadata": {},
   "source": [
    "### 1- which is the average rating of the courses?"
   ]
  },
  {
   "cell_type": "code",
   "execution_count": 3,
   "id": "497792f7",
   "metadata": {},
   "outputs": [
    {
     "data": {
      "text/plain": [
       "4.442155555555556"
      ]
     },
     "execution_count": 3,
     "metadata": {},
     "output_type": "execute_result"
    }
   ],
   "source": [
    "reviews['Rating'].mean()"
   ]
  },
  {
   "cell_type": "markdown",
   "id": "5e1d0ba8",
   "metadata": {},
   "source": [
    "### 2- Getting the rating for a particular course"
   ]
  },
  {
   "cell_type": "code",
   "execution_count": 7,
   "id": "a1b57a07",
   "metadata": {},
   "outputs": [
    {
     "data": {
      "text/plain": [
       "array(['The Python Mega Course: Build 10 Real World Applications',\n",
       "       'The Complete Python Course: Build 10 Professional OOP Apps',\n",
       "       '100 Python Exercises I: Evaluate and Improve Your Skills',\n",
       "       'Interactive Data Visualization with Python and Bokeh',\n",
       "       'Python for Beginners with Examples',\n",
       "       'Data Processing with Python',\n",
       "       '100 Python Exercises II: Evaluate and Improve Your Skills',\n",
       "       'Learn GIS in One Hour'], dtype=object)"
      ]
     },
     "execution_count": 7,
     "metadata": {},
     "output_type": "execute_result"
    }
   ],
   "source": [
    "# Getting the name of the desired course to mesure\n",
    "reviews['Course Name'].unique()"
   ]
  },
  {
   "cell_type": "code",
   "execution_count": 14,
   "id": "195b6f52",
   "metadata": {},
   "outputs": [
    {
     "data": {
      "text/plain": [
       "4.300974901472723"
      ]
     },
     "execution_count": 14,
     "metadata": {},
     "output_type": "execute_result"
    }
   ],
   "source": [
    "# Getting the rating for the selectede course\n",
    "py_begginers = reviews[reviews['Course Name'] == 'Python for Beginners with Examples']\n",
    "py_begginers['Rating'].mean()\n",
    "\n",
    "# We could do it compact, like\n",
    "reviews[reviews['Course Name'] == 'Python for Beginners with Examples']['Rating'].mean()\n",
    "\n"
   ]
  },
  {
   "cell_type": "markdown",
   "id": "c81ff6ae",
   "metadata": {},
   "source": [
    "### 3-  Average Rating for the last Quarter of 2020"
   ]
  },
  {
   "cell_type": "code",
   "execution_count": 25,
   "id": "0285e65d",
   "metadata": {},
   "outputs": [
    {
     "name": "stdout",
     "output_type": "stream",
     "text": [
      "The 4th quarter of 2020 average rating is: 4.51\n"
     ]
    }
   ],
   "source": [
    "q4 =reviews[(reviews['Timestamp'] >= datetime(2020, 10, 1,tzinfo=utc)) &\n",
    "        (reviews['Timestamp'] <= datetime(2020, 12, 31,tzinfo=utc))]['Rating'].mean()\n",
    "\n",
    "\n",
    "print('The 4th quarter of 2020 average rating is: '+ str(round(q4, 2)))"
   ]
  },
  {
   "cell_type": "markdown",
   "id": "9d66a69a",
   "metadata": {},
   "source": [
    "### We can compare it with the previous Quarter of 2020 to drive a conclusion about the people's percetption of the course"
   ]
  },
  {
   "cell_type": "code",
   "execution_count": 33,
   "id": "f299f065",
   "metadata": {},
   "outputs": [
    {
     "name": "stdout",
     "output_type": "stream",
     "text": [
      "The 3th quarter of 2020 average rating is: 4.49\n"
     ]
    }
   ],
   "source": [
    "q3 = reviews[(reviews['Timestamp'] >= datetime(2020, 7, 1,tzinfo=utc)) &\n",
    "        (reviews['Timestamp'] <= datetime(2020, 9, 30,tzinfo=utc))]['Rating'].mean()\n",
    "\n",
    "\n",
    "print('The 3th quarter of 2020 average rating is: '+ str(round(q3, 2)))"
   ]
  },
  {
   "cell_type": "markdown",
   "id": "df1ecb4c",
   "metadata": {},
   "source": [
    "### 4- Average Rating of the courses with no comments "
   ]
  },
  {
   "cell_type": "code",
   "execution_count": 34,
   "id": "73058cf2",
   "metadata": {},
   "outputs": [
    {
     "data": {
      "text/plain": [
       "4.433679746603492"
      ]
     },
     "execution_count": 34,
     "metadata": {},
     "output_type": "execute_result"
    }
   ],
   "source": [
    "reviews[reviews['Comment'].isnull()]['Rating'].mean()"
   ]
  },
  {
   "cell_type": "code",
   "execution_count": 39,
   "id": "e198d659",
   "metadata": {},
   "outputs": [
    {
     "data": {
      "text/plain": [
       "38201"
      ]
     },
     "execution_count": 39,
     "metadata": {},
     "output_type": "execute_result"
    }
   ],
   "source": [
    "# Amount of courses with no comments \n",
    "reviews[reviews['Comment'].isnull()]['Rating'].count()\n"
   ]
  },
  {
   "cell_type": "markdown",
   "id": "6bdf9d91",
   "metadata": {},
   "source": [
    "### We can compare it with the average rating of courses with comments "
   ]
  },
  {
   "cell_type": "code",
   "execution_count": 38,
   "id": "4cc42301",
   "metadata": {},
   "outputs": [
    {
     "data": {
      "text/plain": [
       "4.489777908515959"
      ]
     },
     "execution_count": 38,
     "metadata": {},
     "output_type": "execute_result"
    }
   ],
   "source": [
    "reviews[reviews['Comment'].notnull()]['Rating'].mean()"
   ]
  },
  {
   "cell_type": "code",
   "execution_count": 40,
   "id": "4dd53a19",
   "metadata": {},
   "outputs": [
    {
     "data": {
      "text/plain": [
       "6799"
      ]
     },
     "execution_count": 40,
     "metadata": {},
     "output_type": "execute_result"
    }
   ],
   "source": [
    "# Amount of courses with comments \n",
    "reviews[reviews['Comment'].notnull()]['Rating'].count()"
   ]
  },
  {
   "cell_type": "markdown",
   "id": "7cd45064",
   "metadata": {},
   "source": [
    "### 5- Exploring people's opinion about the accent in courses"
   ]
  },
  {
   "cell_type": "code",
   "execution_count": 41,
   "id": "9b62b59f",
   "metadata": {},
   "outputs": [
    {
     "ename": "ValueError",
     "evalue": "Cannot mask with non-boolean array containing NA / NaN values",
     "output_type": "error",
     "traceback": [
      "\u001b[1;31m---------------------------------------------------------------------------\u001b[0m",
      "\u001b[1;31mValueError\u001b[0m                                Traceback (most recent call last)",
      "\u001b[1;32mC:\\Users\\ANTONI~1\\AppData\\Local\\Temp/ipykernel_12460/1581078448.py\u001b[0m in \u001b[0;36m<module>\u001b[1;34m\u001b[0m\n\u001b[1;32m----> 1\u001b[1;33m \u001b[0mreviews\u001b[0m\u001b[1;33m[\u001b[0m\u001b[0mreviews\u001b[0m\u001b[1;33m[\u001b[0m\u001b[1;34m'Comment'\u001b[0m\u001b[1;33m]\u001b[0m\u001b[1;33m.\u001b[0m\u001b[0mstr\u001b[0m\u001b[1;33m.\u001b[0m\u001b[0mcontains\u001b[0m\u001b[1;33m(\u001b[0m\u001b[1;34m'accent'\u001b[0m\u001b[1;33m)\u001b[0m\u001b[1;33m]\u001b[0m\u001b[1;33m\u001b[0m\u001b[1;33m\u001b[0m\u001b[0m\n\u001b[0m",
      "\u001b[1;32mC:\\anaconda\\lib\\site-packages\\pandas\\core\\frame.py\u001b[0m in \u001b[0;36m__getitem__\u001b[1;34m(self, key)\u001b[0m\n\u001b[0;32m   3446\u001b[0m \u001b[1;33m\u001b[0m\u001b[0m\n\u001b[0;32m   3447\u001b[0m         \u001b[1;31m# Do we have a (boolean) 1d indexer?\u001b[0m\u001b[1;33m\u001b[0m\u001b[1;33m\u001b[0m\u001b[0m\n\u001b[1;32m-> 3448\u001b[1;33m         \u001b[1;32mif\u001b[0m \u001b[0mcom\u001b[0m\u001b[1;33m.\u001b[0m\u001b[0mis_bool_indexer\u001b[0m\u001b[1;33m(\u001b[0m\u001b[0mkey\u001b[0m\u001b[1;33m)\u001b[0m\u001b[1;33m:\u001b[0m\u001b[1;33m\u001b[0m\u001b[1;33m\u001b[0m\u001b[0m\n\u001b[0m\u001b[0;32m   3449\u001b[0m             \u001b[1;32mreturn\u001b[0m \u001b[0mself\u001b[0m\u001b[1;33m.\u001b[0m\u001b[0m_getitem_bool_array\u001b[0m\u001b[1;33m(\u001b[0m\u001b[0mkey\u001b[0m\u001b[1;33m)\u001b[0m\u001b[1;33m\u001b[0m\u001b[1;33m\u001b[0m\u001b[0m\n\u001b[0;32m   3450\u001b[0m \u001b[1;33m\u001b[0m\u001b[0m\n",
      "\u001b[1;32mC:\\anaconda\\lib\\site-packages\\pandas\\core\\common.py\u001b[0m in \u001b[0;36mis_bool_indexer\u001b[1;34m(key)\u001b[0m\n\u001b[0;32m    137\u001b[0m                     \u001b[1;31m# Don't raise on e.g. [\"A\", \"B\", np.nan], see\u001b[0m\u001b[1;33m\u001b[0m\u001b[1;33m\u001b[0m\u001b[0m\n\u001b[0;32m    138\u001b[0m                     \u001b[1;31m#  test_loc_getitem_list_of_labels_categoricalindex_with_na\u001b[0m\u001b[1;33m\u001b[0m\u001b[1;33m\u001b[0m\u001b[0m\n\u001b[1;32m--> 139\u001b[1;33m                     \u001b[1;32mraise\u001b[0m \u001b[0mValueError\u001b[0m\u001b[1;33m(\u001b[0m\u001b[0mna_msg\u001b[0m\u001b[1;33m)\u001b[0m\u001b[1;33m\u001b[0m\u001b[1;33m\u001b[0m\u001b[0m\n\u001b[0m\u001b[0;32m    140\u001b[0m                 \u001b[1;32mreturn\u001b[0m \u001b[1;32mFalse\u001b[0m\u001b[1;33m\u001b[0m\u001b[1;33m\u001b[0m\u001b[0m\n\u001b[0;32m    141\u001b[0m             \u001b[1;32mreturn\u001b[0m \u001b[1;32mTrue\u001b[0m\u001b[1;33m\u001b[0m\u001b[1;33m\u001b[0m\u001b[0m\n",
      "\u001b[1;31mValueError\u001b[0m: Cannot mask with non-boolean array containing NA / NaN values"
     ]
    }
   ],
   "source": [
    "reviews[reviews['Comment'].str.contains('accent')]"
   ]
  },
  {
   "cell_type": "markdown",
   "id": "666b07a8",
   "metadata": {},
   "source": [
    "### Solving 'ValueError: Cannot mask with non-boolean array containing NA / NaN values' error "
   ]
  },
  {
   "cell_type": "code",
   "execution_count": 42,
   "id": "e4a4b489",
   "metadata": {},
   "outputs": [
    {
     "data": {
      "text/html": [
       "<div>\n",
       "<style scoped>\n",
       "    .dataframe tbody tr th:only-of-type {\n",
       "        vertical-align: middle;\n",
       "    }\n",
       "\n",
       "    .dataframe tbody tr th {\n",
       "        vertical-align: top;\n",
       "    }\n",
       "\n",
       "    .dataframe thead th {\n",
       "        text-align: right;\n",
       "    }\n",
       "</style>\n",
       "<table border=\"1\" class=\"dataframe\">\n",
       "  <thead>\n",
       "    <tr style=\"text-align: right;\">\n",
       "      <th></th>\n",
       "      <th>Course Name</th>\n",
       "      <th>Timestamp</th>\n",
       "      <th>Rating</th>\n",
       "      <th>Comment</th>\n",
       "    </tr>\n",
       "  </thead>\n",
       "  <tbody>\n",
       "    <tr>\n",
       "      <th>2099</th>\n",
       "      <td>The Complete Python Course: Build 10 Professio...</td>\n",
       "      <td>2021-01-24 19:02:55+00:00</td>\n",
       "      <td>4.5</td>\n",
       "      <td>The course is great but because of the instruc...</td>\n",
       "    </tr>\n",
       "    <tr>\n",
       "      <th>3025</th>\n",
       "      <td>The Python Mega Course: Build 10 Real World Ap...</td>\n",
       "      <td>2021-01-01 14:46:21+00:00</td>\n",
       "      <td>2.5</td>\n",
       "      <td>Sometimes it is difficult to understand the in...</td>\n",
       "    </tr>\n",
       "    <tr>\n",
       "      <th>3477</th>\n",
       "      <td>The Python Mega Course: Build 10 Real World Ap...</td>\n",
       "      <td>2020-12-18 06:00:42+00:00</td>\n",
       "      <td>4.5</td>\n",
       "      <td>A little trouble at first with the accent, but...</td>\n",
       "    </tr>\n",
       "    <tr>\n",
       "      <th>3754</th>\n",
       "      <td>The Python Mega Course: Build 10 Real World Ap...</td>\n",
       "      <td>2020-12-08 13:42:00+00:00</td>\n",
       "      <td>5.0</td>\n",
       "      <td>I was looking for some time for the good Pytho...</td>\n",
       "    </tr>\n",
       "    <tr>\n",
       "      <th>4690</th>\n",
       "      <td>Learn GIS in One Hour</td>\n",
       "      <td>2020-11-11 17:23:12+00:00</td>\n",
       "      <td>5.0</td>\n",
       "      <td>I am having trouble seeing the video and he is...</td>\n",
       "    </tr>\n",
       "    <tr>\n",
       "      <th>...</th>\n",
       "      <td>...</td>\n",
       "      <td>...</td>\n",
       "      <td>...</td>\n",
       "      <td>...</td>\n",
       "    </tr>\n",
       "    <tr>\n",
       "      <th>43785</th>\n",
       "      <td>Python for Beginners with Examples</td>\n",
       "      <td>2018-01-26 09:19:40+00:00</td>\n",
       "      <td>4.0</td>\n",
       "      <td>Please find the English review below!\\n\\nDiese...</td>\n",
       "    </tr>\n",
       "    <tr>\n",
       "      <th>44040</th>\n",
       "      <td>The Python Mega Course: Build 10 Real World Ap...</td>\n",
       "      <td>2018-01-20 01:06:54+00:00</td>\n",
       "      <td>5.0</td>\n",
       "      <td>HIGHLY RECOMMEND THIS COURSE! BUT PLEASE READ ...</td>\n",
       "    </tr>\n",
       "    <tr>\n",
       "      <th>44471</th>\n",
       "      <td>Learn GIS in One Hour</td>\n",
       "      <td>2018-01-11 11:11:12+00:00</td>\n",
       "      <td>4.5</td>\n",
       "      <td>This is a really nice course for beginners who...</td>\n",
       "    </tr>\n",
       "    <tr>\n",
       "      <th>44483</th>\n",
       "      <td>The Python Mega Course: Build 10 Real World Ap...</td>\n",
       "      <td>2018-01-11 05:06:48+00:00</td>\n",
       "      <td>3.0</td>\n",
       "      <td>Speakers accent was a bit difficult for me to ...</td>\n",
       "    </tr>\n",
       "    <tr>\n",
       "      <th>44617</th>\n",
       "      <td>The Python Mega Course: Build 10 Real World Ap...</td>\n",
       "      <td>2018-01-08 18:39:34+00:00</td>\n",
       "      <td>5.0</td>\n",
       "      <td>First course that actually covers everything y...</td>\n",
       "    </tr>\n",
       "  </tbody>\n",
       "</table>\n",
       "<p>77 rows × 4 columns</p>\n",
       "</div>"
      ],
      "text/plain": [
       "                                             Course Name  \\\n",
       "2099   The Complete Python Course: Build 10 Professio...   \n",
       "3025   The Python Mega Course: Build 10 Real World Ap...   \n",
       "3477   The Python Mega Course: Build 10 Real World Ap...   \n",
       "3754   The Python Mega Course: Build 10 Real World Ap...   \n",
       "4690                               Learn GIS in One Hour   \n",
       "...                                                  ...   \n",
       "43785                 Python for Beginners with Examples   \n",
       "44040  The Python Mega Course: Build 10 Real World Ap...   \n",
       "44471                              Learn GIS in One Hour   \n",
       "44483  The Python Mega Course: Build 10 Real World Ap...   \n",
       "44617  The Python Mega Course: Build 10 Real World Ap...   \n",
       "\n",
       "                      Timestamp  Rating  \\\n",
       "2099  2021-01-24 19:02:55+00:00     4.5   \n",
       "3025  2021-01-01 14:46:21+00:00     2.5   \n",
       "3477  2020-12-18 06:00:42+00:00     4.5   \n",
       "3754  2020-12-08 13:42:00+00:00     5.0   \n",
       "4690  2020-11-11 17:23:12+00:00     5.0   \n",
       "...                         ...     ...   \n",
       "43785 2018-01-26 09:19:40+00:00     4.0   \n",
       "44040 2018-01-20 01:06:54+00:00     5.0   \n",
       "44471 2018-01-11 11:11:12+00:00     4.5   \n",
       "44483 2018-01-11 05:06:48+00:00     3.0   \n",
       "44617 2018-01-08 18:39:34+00:00     5.0   \n",
       "\n",
       "                                                 Comment  \n",
       "2099   The course is great but because of the instruc...  \n",
       "3025   Sometimes it is difficult to understand the in...  \n",
       "3477   A little trouble at first with the accent, but...  \n",
       "3754   I was looking for some time for the good Pytho...  \n",
       "4690   I am having trouble seeing the video and he is...  \n",
       "...                                                  ...  \n",
       "43785  Please find the English review below!\\n\\nDiese...  \n",
       "44040  HIGHLY RECOMMEND THIS COURSE! BUT PLEASE READ ...  \n",
       "44471  This is a really nice course for beginners who...  \n",
       "44483  Speakers accent was a bit difficult for me to ...  \n",
       "44617  First course that actually covers everything y...  \n",
       "\n",
       "[77 rows x 4 columns]"
      ]
     },
     "execution_count": 42,
     "metadata": {},
     "output_type": "execute_result"
    }
   ],
   "source": [
    "reviews[reviews['Comment'].str.contains('accent', na = False)]"
   ]
  },
  {
   "cell_type": "code",
   "execution_count": 43,
   "id": "4f2a675a",
   "metadata": {},
   "outputs": [
    {
     "data": {
      "text/plain": [
       "77"
      ]
     },
     "execution_count": 43,
     "metadata": {},
     "output_type": "execute_result"
    }
   ],
   "source": [
    "# Getting the amount of comments that talks about the accent on courses\n",
    "reviews[reviews['Comment'].str.contains('accent', na = False)]['Rating'].count()"
   ]
  },
  {
   "cell_type": "code",
   "execution_count": 44,
   "id": "29455634",
   "metadata": {},
   "outputs": [
    {
     "data": {
      "text/plain": [
       "3.8636363636363638"
      ]
     },
     "execution_count": 44,
     "metadata": {},
     "output_type": "execute_result"
    }
   ],
   "source": [
    "# Getting the average impresion of peoples about the accent on courses\n",
    "reviews[reviews['Comment'].str.contains('accent', na = False)]['Rating'].mean()"
   ]
  },
  {
   "cell_type": "code",
   "execution_count": 45,
   "id": "c692bedf",
   "metadata": {},
   "outputs": [
    {
     "data": {
      "text/plain": [
       "4.442155555555556"
      ]
     },
     "execution_count": 45,
     "metadata": {},
     "output_type": "execute_result"
    }
   ],
   "source": [
    "# If we compare it with the average rating, we can see that having accent in courses impacts negativly on user's perception\n",
    "reviews['Rating'].mean()"
   ]
  },
  {
   "cell_type": "code",
   "execution_count": null,
   "id": "c4da5473",
   "metadata": {},
   "outputs": [],
   "source": []
  }
 ],
 "metadata": {
  "kernelspec": {
   "display_name": "Python 3 (ipykernel)",
   "language": "python",
   "name": "python3"
  },
  "language_info": {
   "codemirror_mode": {
    "name": "ipython",
    "version": 3
   },
   "file_extension": ".py",
   "mimetype": "text/x-python",
   "name": "python",
   "nbconvert_exporter": "python",
   "pygments_lexer": "ipython3",
   "version": "3.9.7"
  }
 },
 "nbformat": 4,
 "nbformat_minor": 5
}
